{
 "cells": [
  {
   "cell_type": "code",
   "execution_count": 1,
   "id": "33e2e1c3",
   "metadata": {},
   "outputs": [],
   "source": [
    "import pandas as pd\n",
    "import pyarrow\n",
    "import seaborn as sns"
   ]
  },
  {
   "cell_type": "code",
   "execution_count": 2,
   "id": "b3afd8f0",
   "metadata": {},
   "outputs": [],
   "source": [
    "df = pd.read_csv(\"transform_duck/data/arquivos_csv/daily_sales_retail_0.csv\")"
   ]
  },
  {
   "cell_type": "code",
   "execution_count": 3,
   "id": "be49faea",
   "metadata": {},
   "outputs": [
    {
     "data": {
      "text/html": [
       "<div>\n",
       "<style scoped>\n",
       "    .dataframe tbody tr th:only-of-type {\n",
       "        vertical-align: middle;\n",
       "    }\n",
       "\n",
       "    .dataframe tbody tr th {\n",
       "        vertical-align: top;\n",
       "    }\n",
       "\n",
       "    .dataframe thead th {\n",
       "        text-align: right;\n",
       "    }\n",
       "</style>\n",
       "<table border=\"1\" class=\"dataframe\">\n",
       "  <thead>\n",
       "    <tr style=\"text-align: right;\">\n",
       "      <th></th>\n",
       "      <th>transaction_id</th>\n",
       "      <th>transaction_time</th>\n",
       "      <th>ean</th>\n",
       "      <th>product_name</th>\n",
       "      <th>price</th>\n",
       "      <th>store</th>\n",
       "      <th>pos_number</th>\n",
       "      <th>pos_system</th>\n",
       "      <th>pos_version</th>\n",
       "      <th>pos_last_maintenance</th>\n",
       "      <th>operator</th>\n",
       "    </tr>\n",
       "  </thead>\n",
       "  <tbody>\n",
       "    <tr>\n",
       "      <th>0</th>\n",
       "      <td>6ebb0e05-476b-4f9d-a717-48934abb1296</td>\n",
       "      <td>2024-01-22 17:59:55</td>\n",
       "      <td>4883867239549</td>\n",
       "      <td>Pattern</td>\n",
       "      <td>34.24</td>\n",
       "      <td>0</td>\n",
       "      <td>6</td>\n",
       "      <td>Windows</td>\n",
       "      <td>2.0</td>\n",
       "      <td>2023-10-15 00:52:24.150203</td>\n",
       "      <td>39</td>\n",
       "    </tr>\n",
       "    <tr>\n",
       "      <th>1</th>\n",
       "      <td>6ebb0e05-476b-4f9d-a717-48934abb1296</td>\n",
       "      <td>2024-01-22 17:59:55</td>\n",
       "      <td>4883867239549</td>\n",
       "      <td>Pattern</td>\n",
       "      <td>34.24</td>\n",
       "      <td>0</td>\n",
       "      <td>6</td>\n",
       "      <td>Windows</td>\n",
       "      <td>2.0</td>\n",
       "      <td>2023-10-15 00:52:24.150203</td>\n",
       "      <td>39</td>\n",
       "    </tr>\n",
       "    <tr>\n",
       "      <th>2</th>\n",
       "      <td>6ebb0e05-476b-4f9d-a717-48934abb1296</td>\n",
       "      <td>2024-01-22 17:59:55</td>\n",
       "      <td>4883867239549</td>\n",
       "      <td>Pattern</td>\n",
       "      <td>34.24</td>\n",
       "      <td>0</td>\n",
       "      <td>6</td>\n",
       "      <td>Windows</td>\n",
       "      <td>2.0</td>\n",
       "      <td>2023-10-15 00:52:24.150203</td>\n",
       "      <td>39</td>\n",
       "    </tr>\n",
       "    <tr>\n",
       "      <th>3</th>\n",
       "      <td>6ebb0e05-476b-4f9d-a717-48934abb1296</td>\n",
       "      <td>2024-01-22 17:59:55</td>\n",
       "      <td>4883867239549</td>\n",
       "      <td>Pattern</td>\n",
       "      <td>34.24</td>\n",
       "      <td>0</td>\n",
       "      <td>6</td>\n",
       "      <td>Windows</td>\n",
       "      <td>2.0</td>\n",
       "      <td>2023-10-15 00:52:24.150203</td>\n",
       "      <td>39</td>\n",
       "    </tr>\n",
       "    <tr>\n",
       "      <th>4</th>\n",
       "      <td>6ebb0e05-476b-4f9d-a717-48934abb1296</td>\n",
       "      <td>2024-01-22 17:59:55</td>\n",
       "      <td>4883867239549</td>\n",
       "      <td>Pattern</td>\n",
       "      <td>34.24</td>\n",
       "      <td>0</td>\n",
       "      <td>6</td>\n",
       "      <td>Windows</td>\n",
       "      <td>2.0</td>\n",
       "      <td>2023-10-15 00:52:24.150203</td>\n",
       "      <td>39</td>\n",
       "    </tr>\n",
       "  </tbody>\n",
       "</table>\n",
       "</div>"
      ],
      "text/plain": [
       "                         transaction_id     transaction_time            ean  \\\n",
       "0  6ebb0e05-476b-4f9d-a717-48934abb1296  2024-01-22 17:59:55  4883867239549   \n",
       "1  6ebb0e05-476b-4f9d-a717-48934abb1296  2024-01-22 17:59:55  4883867239549   \n",
       "2  6ebb0e05-476b-4f9d-a717-48934abb1296  2024-01-22 17:59:55  4883867239549   \n",
       "3  6ebb0e05-476b-4f9d-a717-48934abb1296  2024-01-22 17:59:55  4883867239549   \n",
       "4  6ebb0e05-476b-4f9d-a717-48934abb1296  2024-01-22 17:59:55  4883867239549   \n",
       "\n",
       "  product_name  price  store  pos_number pos_system  pos_version  \\\n",
       "0      Pattern  34.24      0           6    Windows          2.0   \n",
       "1      Pattern  34.24      0           6    Windows          2.0   \n",
       "2      Pattern  34.24      0           6    Windows          2.0   \n",
       "3      Pattern  34.24      0           6    Windows          2.0   \n",
       "4      Pattern  34.24      0           6    Windows          2.0   \n",
       "\n",
       "         pos_last_maintenance  operator  \n",
       "0  2023-10-15 00:52:24.150203        39  \n",
       "1  2023-10-15 00:52:24.150203        39  \n",
       "2  2023-10-15 00:52:24.150203        39  \n",
       "3  2023-10-15 00:52:24.150203        39  \n",
       "4  2023-10-15 00:52:24.150203        39  "
      ]
     },
     "execution_count": 3,
     "metadata": {},
     "output_type": "execute_result"
    }
   ],
   "source": [
    "df.head()"
   ]
  },
  {
   "cell_type": "code",
   "execution_count": 4,
   "id": "44b5e5cd",
   "metadata": {},
   "outputs": [
    {
     "name": "stdout",
     "output_type": "stream",
     "text": [
      "<class 'pandas.core.frame.DataFrame'>\n",
      "RangeIndex: 1138663 entries, 0 to 1138662\n",
      "Data columns (total 11 columns):\n",
      " #   Column                Non-Null Count    Dtype  \n",
      "---  ------                --------------    -----  \n",
      " 0   transaction_id        1138663 non-null  object \n",
      " 1   transaction_time      1138663 non-null  object \n",
      " 2   ean                   1138663 non-null  int64  \n",
      " 3   product_name          1138663 non-null  object \n",
      " 4   price                 1138663 non-null  float64\n",
      " 5   store                 1138663 non-null  int64  \n",
      " 6   pos_number            1138663 non-null  int64  \n",
      " 7   pos_system            1138663 non-null  object \n",
      " 8   pos_version           1138663 non-null  float64\n",
      " 9   pos_last_maintenance  1138663 non-null  object \n",
      " 10  operator              1138663 non-null  int64  \n",
      "dtypes: float64(2), int64(4), object(5)\n",
      "memory usage: 95.6+ MB\n"
     ]
    }
   ],
   "source": [
    "df.info()"
   ]
  },
  {
   "cell_type": "code",
   "execution_count": 5,
   "id": "efb69a1e",
   "metadata": {},
   "outputs": [
    {
     "name": "stdout",
     "output_type": "stream",
     "text": [
      "Number of unique values for each column\n",
      "transaction_id ---- 3993\n",
      "transaction_time ---- 3970\n",
      "ean ---- 200\n",
      "product_name ---- 184\n",
      "price ---- 1758\n",
      "store ---- 1\n",
      "pos_number ---- 20\n",
      "pos_system ---- 1\n",
      "pos_version ---- 1\n",
      "pos_last_maintenance ---- 10\n",
      "operator ---- 60\n"
     ]
    }
   ],
   "source": [
    "print('Number of unique values for each column')\n",
    "for i in df.columns:\n",
    "    print(i,\"----\" ,df[i].nunique())"
   ]
  },
  {
   "cell_type": "code",
   "execution_count": 6,
   "id": "74137014",
   "metadata": {},
   "outputs": [
    {
     "data": {
      "text/plain": [
       "1138663"
      ]
     },
     "execution_count": 6,
     "metadata": {},
     "output_type": "execute_result"
    }
   ],
   "source": [
    "len(df)"
   ]
  },
  {
   "cell_type": "code",
   "execution_count": 8,
   "id": "d17000c6",
   "metadata": {},
   "outputs": [],
   "source": [
    "df_transacoes = pd.read_parquet(\"transform_duck/database/df_transactions.parquet\")"
   ]
  },
  {
   "cell_type": "code",
   "execution_count": 9,
   "id": "b09af734",
   "metadata": {},
   "outputs": [
    {
     "name": "stdout",
     "output_type": "stream",
     "text": [
      "<class 'pandas.core.frame.DataFrame'>\n",
      "RangeIndex: 14576534 entries, 0 to 14576533\n",
      "Data columns (total 4 columns):\n",
      " #   Column            Dtype         \n",
      "---  ------            -----         \n",
      " 0   transaction_time  datetime64[ns]\n",
      " 1   product_name      object        \n",
      " 2   price             float64       \n",
      " 3   store             int64         \n",
      "dtypes: datetime64[ns](1), float64(1), int64(1), object(1)\n",
      "memory usage: 444.8+ MB\n"
     ]
    }
   ],
   "source": [
    "df_transacoes.info()"
   ]
  },
  {
   "cell_type": "code",
   "execution_count": 10,
   "id": "cffdf5eb",
   "metadata": {},
   "outputs": [
    {
     "name": "stdout",
     "output_type": "stream",
     "text": [
      "Number of unique values for each column\n",
      "transaction_time ---- 46738\n",
      "product_name ---- 184\n",
      "price ---- 15378\n",
      "store ---- 14\n"
     ]
    }
   ],
   "source": [
    "print('Number of unique values for each column')\n",
    "for i in df_transacoes.columns:\n",
    "    print(i,\"----\" ,df_transacoes[i].nunique())"
   ]
  },
  {
   "cell_type": "code",
   "execution_count": 11,
   "id": "3bdd799d",
   "metadata": {},
   "outputs": [
    {
     "data": {
      "text/plain": [
       "14576534"
      ]
     },
     "execution_count": 11,
     "metadata": {},
     "output_type": "execute_result"
    }
   ],
   "source": [
    "len(df_transacoes)"
   ]
  },
  {
   "cell_type": "code",
   "execution_count": null,
   "id": "1a0c3c8b",
   "metadata": {},
   "outputs": [],
   "source": []
  },
  {
   "cell_type": "code",
   "execution_count": 12,
   "id": "255e7386",
   "metadata": {},
   "outputs": [
    {
     "data": {
      "text/plain": [
       "0          2024-01-22 17:59:55\n",
       "1          2024-01-22 17:59:55\n",
       "2          2024-01-22 17:59:55\n",
       "3          2024-01-22 17:59:55\n",
       "4          2024-01-22 17:59:55\n",
       "                   ...        \n",
       "14576529   2024-01-13 09:01:52\n",
       "14576530   2024-01-13 09:01:52\n",
       "14576531   2024-01-13 09:01:52\n",
       "14576532   2024-01-13 09:01:52\n",
       "14576533   2024-01-13 09:01:52\n",
       "Name: transaction_time, Length: 14576534, dtype: datetime64[ns]"
      ]
     },
     "execution_count": 12,
     "metadata": {},
     "output_type": "execute_result"
    }
   ],
   "source": [
    "df_transacoes['transaction_time']"
   ]
  },
  {
   "cell_type": "code",
   "execution_count": 13,
   "id": "414d3cce",
   "metadata": {},
   "outputs": [
    {
     "data": {
      "text/plain": [
       "array([2024], dtype=int64)"
      ]
     },
     "execution_count": 13,
     "metadata": {},
     "output_type": "execute_result"
    }
   ],
   "source": [
    "df_transacoes['transaction_time'].dt.year.unique()"
   ]
  },
  {
   "cell_type": "code",
   "execution_count": 14,
   "id": "ec624f8e",
   "metadata": {},
   "outputs": [
    {
     "data": {
      "text/plain": [
       "transaction_time    0\n",
       "product_name        0\n",
       "price               0\n",
       "store               0\n",
       "dtype: int64"
      ]
     },
     "execution_count": 14,
     "metadata": {},
     "output_type": "execute_result"
    }
   ],
   "source": [
    "df_transacoes.isnull().sum()"
   ]
  },
  {
   "cell_type": "code",
   "execution_count": 15,
   "id": "caba2527",
   "metadata": {},
   "outputs": [
    {
     "data": {
      "text/html": [
       "<div>\n",
       "<style scoped>\n",
       "    .dataframe tbody tr th:only-of-type {\n",
       "        vertical-align: middle;\n",
       "    }\n",
       "\n",
       "    .dataframe tbody tr th {\n",
       "        vertical-align: top;\n",
       "    }\n",
       "\n",
       "    .dataframe thead th {\n",
       "        text-align: right;\n",
       "    }\n",
       "</style>\n",
       "<table border=\"1\" class=\"dataframe\">\n",
       "  <thead>\n",
       "    <tr style=\"text-align: right;\">\n",
       "      <th></th>\n",
       "      <th>count</th>\n",
       "      <th>mean</th>\n",
       "      <th>std</th>\n",
       "      <th>min</th>\n",
       "      <th>25%</th>\n",
       "      <th>50%</th>\n",
       "      <th>75%</th>\n",
       "      <th>max</th>\n",
       "    </tr>\n",
       "  </thead>\n",
       "  <tbody>\n",
       "    <tr>\n",
       "      <th>price</th>\n",
       "      <td>14576534.0</td>\n",
       "      <td>82.081425</td>\n",
       "      <td>67.172953</td>\n",
       "      <td>0.01</td>\n",
       "      <td>24.57</td>\n",
       "      <td>65.43</td>\n",
       "      <td>128.16</td>\n",
       "      <td>296.79</td>\n",
       "    </tr>\n",
       "    <tr>\n",
       "      <th>store</th>\n",
       "      <td>14576534.0</td>\n",
       "      <td>6.247528</td>\n",
       "      <td>4.218119</td>\n",
       "      <td>0.00</td>\n",
       "      <td>3.00</td>\n",
       "      <td>6.00</td>\n",
       "      <td>9.00</td>\n",
       "      <td>14.00</td>\n",
       "    </tr>\n",
       "  </tbody>\n",
       "</table>\n",
       "</div>"
      ],
      "text/plain": [
       "            count       mean        std   min    25%    50%     75%     max\n",
       "price  14576534.0  82.081425  67.172953  0.01  24.57  65.43  128.16  296.79\n",
       "store  14576534.0   6.247528   4.218119  0.00   3.00   6.00    9.00   14.00"
      ]
     },
     "execution_count": 15,
     "metadata": {},
     "output_type": "execute_result"
    }
   ],
   "source": [
    "df_transacoes.describe().T"
   ]
  },
  {
   "cell_type": "code",
   "execution_count": 16,
   "id": "107c54e6",
   "metadata": {},
   "outputs": [],
   "source": [
    "df_sum_price_per_store = df_transacoes.groupby('store')[['store','price']].sum()"
   ]
  },
  {
   "cell_type": "code",
   "execution_count": 17,
   "id": "7f27257c",
   "metadata": {},
   "outputs": [
    {
     "data": {
      "text/plain": [
       "<AxesSubplot: xlabel='store', ylabel='price'>"
      ]
     },
     "execution_count": 17,
     "metadata": {},
     "output_type": "execute_result"
    },
    {
     "data": {
      "image/png": "[encoded data removed]",
      "text/plain": [
       "<Figure size 640x480 with 1 Axes>"
      ]
     },
     "metadata": {},
     "output_type": "display_data"
    }
   ],
   "source": [
    "sns.barplot(df_sum_price_per_store,x='store',y='price')"
   ]
  },
  {
   "cell_type": "code",
   "execution_count": 18,
   "id": "707037e2",
   "metadata": {},
   "outputs": [],
   "source": [
    "sum_prices = df_transacoes[['store','price']].groupby('store').sum().sort_values(by='price',ascending=False)[:3]"
   ]
  },
  {
   "cell_type": "code",
   "execution_count": 19,
   "id": "090d1035",
   "metadata": {},
   "outputs": [
    {
     "data": {
      "text/html": [
       "<div>\n",
       "<style scoped>\n",
       "    .dataframe tbody tr th:only-of-type {\n",
       "        vertical-align: middle;\n",
       "    }\n",
       "\n",
       "    .dataframe tbody tr th {\n",
       "        vertical-align: top;\n",
       "    }\n",
       "\n",
       "    .dataframe thead th {\n",
       "        text-align: right;\n",
       "    }\n",
       "</style>\n",
       "<table border=\"1\" class=\"dataframe\">\n",
       "  <thead>\n",
       "    <tr style=\"text-align: right;\">\n",
       "      <th></th>\n",
       "      <th>price</th>\n",
       "    </tr>\n",
       "    <tr>\n",
       "      <th>store</th>\n",
       "      <th></th>\n",
       "    </tr>\n",
       "  </thead>\n",
       "  <tbody>\n",
       "    <tr>\n",
       "      <th>9</th>\n",
       "      <td>1.056798e+08</td>\n",
       "    </tr>\n",
       "    <tr>\n",
       "      <th>11</th>\n",
       "      <td>1.049658e+08</td>\n",
       "    </tr>\n",
       "    <tr>\n",
       "      <th>7</th>\n",
       "      <td>1.036214e+08</td>\n",
       "    </tr>\n",
       "  </tbody>\n",
       "</table>\n",
       "</div>"
      ],
      "text/plain": [
       "              price\n",
       "store              \n",
       "9      1.056798e+08\n",
       "11     1.049658e+08\n",
       "7      1.036214e+08"
      ]
     },
     "execution_count": 19,
     "metadata": {},
     "output_type": "execute_result"
    }
   ],
   "source": [
    "sum_prices.sort_values(by='price',ascending=False)[:3]"
   ]
  },
  {
   "cell_type": "code",
   "execution_count": 20,
   "id": "19eb1f33",
   "metadata": {},
   "outputs": [
    {
     "data": {
      "text/plain": [
       "array([22, 21, 20, 19, 18, 17, 16, 15, 14, 13], dtype=int64)"
      ]
     },
     "execution_count": 20,
     "metadata": {},
     "output_type": "execute_result"
    }
   ],
   "source": [
    "df_transacoes['transaction_time'].dt.day.unique()"
   ]
  },
  {
   "cell_type": "code",
   "execution_count": 21,
   "id": "cc2e0009",
   "metadata": {},
   "outputs": [
    {
     "data": {
      "text/html": [
       "<div>\n",
       "<style scoped>\n",
       "    .dataframe tbody tr th:only-of-type {\n",
       "        vertical-align: middle;\n",
       "    }\n",
       "\n",
       "    .dataframe tbody tr th {\n",
       "        vertical-align: top;\n",
       "    }\n",
       "\n",
       "    .dataframe thead th {\n",
       "        text-align: right;\n",
       "    }\n",
       "</style>\n",
       "<table border=\"1\" class=\"dataframe\">\n",
       "  <thead>\n",
       "    <tr style=\"text-align: right;\">\n",
       "      <th></th>\n",
       "      <th>price</th>\n",
       "    </tr>\n",
       "    <tr>\n",
       "      <th>store</th>\n",
       "      <th></th>\n",
       "    </tr>\n",
       "  </thead>\n",
       "  <tbody>\n",
       "    <tr>\n",
       "      <th>1</th>\n",
       "      <td>27060533.00</td>\n",
       "    </tr>\n",
       "    <tr>\n",
       "      <th>5</th>\n",
       "      <td>24471359.49</td>\n",
       "    </tr>\n",
       "    <tr>\n",
       "      <th>9</th>\n",
       "      <td>21719775.03</td>\n",
       "    </tr>\n",
       "  </tbody>\n",
       "</table>\n",
       "</div>"
      ],
      "text/plain": [
       "             price\n",
       "store             \n",
       "1      27060533.00\n",
       "5      24471359.49\n",
       "9      21719775.03"
      ]
     },
     "execution_count": 21,
     "metadata": {},
     "output_type": "execute_result"
    }
   ],
   "source": [
    "df_transacoes[(df_transacoes['transaction_time']>pd.to_datetime('2024-01-13')) & (df_transacoes['transaction_time']<pd.to_datetime('2024-01-15'))][['store','price']].groupby('store').sum().sort_values(by='price',ascending=False)[:3]"
   ]
  },
  {
   "cell_type": "code",
   "execution_count": 22,
   "id": "5e9c1e3d",
   "metadata": {},
   "outputs": [],
   "source": [
    "df_transacoes['day'] = df_transacoes['transaction_time'].dt.day"
   ]
  },
  {
   "cell_type": "code",
   "execution_count": 23,
   "id": "91709406",
   "metadata": {},
   "outputs": [
    {
     "data": {
      "text/html": [
       "<div>\n",
       "<style scoped>\n",
       "    .dataframe tbody tr th:only-of-type {\n",
       "        vertical-align: middle;\n",
       "    }\n",
       "\n",
       "    .dataframe tbody tr th {\n",
       "        vertical-align: top;\n",
       "    }\n",
       "\n",
       "    .dataframe thead th {\n",
       "        text-align: right;\n",
       "    }\n",
       "</style>\n",
       "<table border=\"1\" class=\"dataframe\">\n",
       "  <thead>\n",
       "    <tr style=\"text-align: right;\">\n",
       "      <th></th>\n",
       "      <th>store</th>\n",
       "      <th>price</th>\n",
       "    </tr>\n",
       "    <tr>\n",
       "      <th>day</th>\n",
       "      <th></th>\n",
       "      <th></th>\n",
       "    </tr>\n",
       "  </thead>\n",
       "  <tbody>\n",
       "    <tr>\n",
       "      <th>13</th>\n",
       "      <td>0</td>\n",
       "      <td>363357.44</td>\n",
       "    </tr>\n",
       "    <tr>\n",
       "      <th>14</th>\n",
       "      <td>0</td>\n",
       "      <td>5631528.11</td>\n",
       "    </tr>\n",
       "    <tr>\n",
       "      <th>15</th>\n",
       "      <td>0</td>\n",
       "      <td>16994724.87</td>\n",
       "    </tr>\n",
       "    <tr>\n",
       "      <th>16</th>\n",
       "      <td>0</td>\n",
       "      <td>511490.71</td>\n",
       "    </tr>\n",
       "    <tr>\n",
       "      <th>17</th>\n",
       "      <td>0</td>\n",
       "      <td>982187.64</td>\n",
       "    </tr>\n",
       "    <tr>\n",
       "      <th>18</th>\n",
       "      <td>0</td>\n",
       "      <td>3556631.37</td>\n",
       "    </tr>\n",
       "    <tr>\n",
       "      <th>19</th>\n",
       "      <td>0</td>\n",
       "      <td>10319474.03</td>\n",
       "    </tr>\n",
       "    <tr>\n",
       "      <th>20</th>\n",
       "      <td>0</td>\n",
       "      <td>12172647.53</td>\n",
       "    </tr>\n",
       "    <tr>\n",
       "      <th>21</th>\n",
       "      <td>0</td>\n",
       "      <td>2910367.93</td>\n",
       "    </tr>\n",
       "    <tr>\n",
       "      <th>22</th>\n",
       "      <td>0</td>\n",
       "      <td>5018021.75</td>\n",
       "    </tr>\n",
       "  </tbody>\n",
       "</table>\n",
       "</div>"
      ],
      "text/plain": [
       "     store        price\n",
       "day                    \n",
       "13       0    363357.44\n",
       "14       0   5631528.11\n",
       "15       0  16994724.87\n",
       "16       0    511490.71\n",
       "17       0    982187.64\n",
       "18       0   3556631.37\n",
       "19       0  10319474.03\n",
       "20       0  12172647.53\n",
       "21       0   2910367.93\n",
       "22       0   5018021.75"
      ]
     },
     "execution_count": 23,
     "metadata": {},
     "output_type": "execute_result"
    }
   ],
   "source": [
    "df_transacoes[['store','price','day']][df_transacoes['store']==0].groupby(by=['day'],axis=0).sum()"
   ]
  },
  {
   "cell_type": "code",
   "execution_count": 26,
   "id": "98ee567f",
   "metadata": {},
   "outputs": [
    {
     "data": {
      "text/plain": [
       "<AxesSubplot: xlabel='day', ylabel='price'>"
      ]
     },
     "execution_count": 26,
     "metadata": {},
     "output_type": "execute_result"
    },
    {
     "data": {
      "image/png": "[encoded data removed]",
      "text/plain": [
       "<Figure size 640x480 with 1 Axes>"
      ]
     },
     "metadata": {},
     "output_type": "display_data"
    }
   ],
   "source": [
    "sns.lineplot(df_transacoes.groupby('day')['price'].sum())"
   ]
  },
  {
   "cell_type": "code",
   "execution_count": 4,
   "id": "31e3428e",
   "metadata": {},
   "outputs": [],
   "source": [
    "df2 = pd.read_parquet('transform_duck/db/df_sales_retail.parquet')"
   ]
  },
  {
   "cell_type": "code",
   "execution_count": 5,
   "id": "d63e391c",
   "metadata": {},
   "outputs": [
    {
     "data": {
      "text/html": [
       "<div>\n",
       "<style scoped>\n",
       "    .dataframe tbody tr th:only-of-type {\n",
       "        vertical-align: middle;\n",
       "    }\n",
       "\n",
       "    .dataframe tbody tr th {\n",
       "        vertical-align: top;\n",
       "    }\n",
       "\n",
       "    .dataframe thead th {\n",
       "        text-align: right;\n",
       "    }\n",
       "</style>\n",
       "<table border=\"1\" class=\"dataframe\">\n",
       "  <thead>\n",
       "    <tr style=\"text-align: right;\">\n",
       "      <th></th>\n",
       "      <th>transaction_time</th>\n",
       "      <th>product_name</th>\n",
       "      <th>price</th>\n",
       "      <th>store</th>\n",
       "    </tr>\n",
       "  </thead>\n",
       "  <tbody>\n",
       "    <tr>\n",
       "      <th>0</th>\n",
       "      <td>2024-01-22 17:59:55</td>\n",
       "      <td>Pattern</td>\n",
       "      <td>34.24</td>\n",
       "      <td>0</td>\n",
       "    </tr>\n",
       "    <tr>\n",
       "      <th>1</th>\n",
       "      <td>2024-01-22 17:59:55</td>\n",
       "      <td>Pattern</td>\n",
       "      <td>34.24</td>\n",
       "      <td>0</td>\n",
       "    </tr>\n",
       "    <tr>\n",
       "      <th>2</th>\n",
       "      <td>2024-01-22 17:59:55</td>\n",
       "      <td>Pattern</td>\n",
       "      <td>34.24</td>\n",
       "      <td>0</td>\n",
       "    </tr>\n",
       "    <tr>\n",
       "      <th>3</th>\n",
       "      <td>2024-01-22 17:59:55</td>\n",
       "      <td>Pattern</td>\n",
       "      <td>34.24</td>\n",
       "      <td>0</td>\n",
       "    </tr>\n",
       "    <tr>\n",
       "      <th>4</th>\n",
       "      <td>2024-01-22 17:59:55</td>\n",
       "      <td>Pattern</td>\n",
       "      <td>34.24</td>\n",
       "      <td>0</td>\n",
       "    </tr>\n",
       "  </tbody>\n",
       "</table>\n",
       "</div>"
      ],
      "text/plain": [
       "     transaction_time product_name  price  store\n",
       "0 2024-01-22 17:59:55      Pattern  34.24      0\n",
       "1 2024-01-22 17:59:55      Pattern  34.24      0\n",
       "2 2024-01-22 17:59:55      Pattern  34.24      0\n",
       "3 2024-01-22 17:59:55      Pattern  34.24      0\n",
       "4 2024-01-22 17:59:55      Pattern  34.24      0"
      ]
     },
     "execution_count": 5,
     "metadata": {},
     "output_type": "execute_result"
    }
   ],
   "source": [
    "df2.head()"
   ]
  },
  {
   "cell_type": "code",
   "execution_count": 6,
   "id": "d5603e80",
   "metadata": {},
   "outputs": [
    {
     "data": {
      "text/plain": [
       "array([ 0,  1, 11, 12, 13, 14,  3,  4,  5,  6,  7,  8,  9], dtype=int64)"
      ]
     },
     "execution_count": 6,
     "metadata": {},
     "output_type": "execute_result"
    }
   ],
   "source": [
    "df2['store'].unique()"
   ]
  },
  {
   "cell_type": "code",
   "execution_count": 7,
   "id": "a870aaaf",
   "metadata": {},
   "outputs": [
    {
     "data": {
      "text/plain": [
       "13448452"
      ]
     },
     "execution_count": 7,
     "metadata": {},
     "output_type": "execute_result"
    }
   ],
   "source": [
    "len(df2)"
   ]
  },
  {
   "cell_type": "code",
   "execution_count": 8,
   "id": "048192b1",
   "metadata": {},
   "outputs": [
    {
     "name": "stdout",
     "output_type": "stream",
     "text": [
      "<class 'pandas.core.frame.DataFrame'>\n",
      "RangeIndex: 13448452 entries, 0 to 13448451\n",
      "Data columns (total 4 columns):\n",
      " #   Column            Dtype         \n",
      "---  ------            -----         \n",
      " 0   transaction_time  datetime64[ns]\n",
      " 1   product_name      object        \n",
      " 2   price             float64       \n",
      " 3   store             int64         \n",
      "dtypes: datetime64[ns](1), float64(1), int64(1), object(1)\n",
      "memory usage: 410.4+ MB\n"
     ]
    }
   ],
   "source": [
    "df2.info()"
   ]
  },
  {
   "cell_type": "code",
   "execution_count": 7,
   "id": "1011e37e",
   "metadata": {},
   "outputs": [],
   "source": [
    "df = pd.read_parquet('transform_duck/db/liquor_sales.parquet')"
   ]
  },
  {
   "cell_type": "code",
   "execution_count": 4,
   "id": "651038d4",
   "metadata": {},
   "outputs": [
    {
     "data": {
      "text/plain": [
       "19666763"
      ]
     },
     "execution_count": 4,
     "metadata": {},
     "output_type": "execute_result"
    }
   ],
   "source": [
    "len(df)"
   ]
  },
  {
   "cell_type": "code",
   "execution_count": 5,
   "id": "6b9e9d99",
   "metadata": {},
   "outputs": [
    {
     "name": "stdout",
     "output_type": "stream",
     "text": [
      "<class 'pandas.core.frame.DataFrame'>\n",
      "RangeIndex: 19666763 entries, 0 to 19666762\n",
      "Data columns (total 10 columns):\n",
      " #   Column               Dtype  \n",
      "---  ------               -----  \n",
      " 0   Invoice/Item Number  object \n",
      " 1   Date                 object \n",
      " 2   Store_Number         int32  \n",
      " 3   Store_Name           object \n",
      " 4   Address              object \n",
      " 5   City                 object \n",
      " 6   Zip_Code             object \n",
      " 7   Store_Location       object \n",
      " 8   County_Number        float64\n",
      " 9   County               object \n",
      "dtypes: float64(1), int32(1), object(8)\n",
      "memory usage: 1.4+ GB\n"
     ]
    }
   ],
   "source": [
    "df.info()"
   ]
  },
  {
   "cell_type": "code",
   "execution_count": 8,
   "id": "800beff0",
   "metadata": {},
   "outputs": [
    {
     "name": "stdout",
     "output_type": "stream",
     "text": [
      "<class 'pandas.core.frame.DataFrame'>\n",
      "RangeIndex: 19666763 entries, 0 to 19666762\n",
      "Data columns (total 10 columns):\n",
      " #   Column               Dtype  \n",
      "---  ------               -----  \n",
      " 0   Invoice/Item Number  object \n",
      " 1   Date                 object \n",
      " 2   Store_Number         int32  \n",
      " 3   Store_Name           object \n",
      " 4   Address              object \n",
      " 5   City                 object \n",
      " 6   Zip_Code             object \n",
      " 7   Store_Location       object \n",
      " 8   County_Number        float64\n",
      " 9   County               object \n",
      "dtypes: float64(1), int32(1), object(8)\n",
      "memory usage: 1.4+ GB\n"
     ]
    }
   ],
   "source": [
    "df.info()"
   ]
  },
  {
   "cell_type": "code",
   "execution_count": null,
   "id": "3f6c9401",
   "metadata": {},
   "outputs": [],
   "source": []
  }
 ],
 "metadata": {
  "kernelspec": {
   "display_name": "Python 3 (ipykernel)",
   "language": "python",
   "name": "python3"
  },
  "language_info": {
   "codemirror_mode": {
    "name": "ipython",
    "version": 3
   },
   "file_extension": ".py",
   "mimetype": "text/x-python",
   "name": "python",
   "nbconvert_exporter": "python",
   "pygments_lexer": "ipython3",
   "version": "3.10.9"
  }
 },
 "nbformat": 4,
 "nbformat_minor": 5
}
